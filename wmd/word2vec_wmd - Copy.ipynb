{
 "cells": [
  {
   "cell_type": "markdown",
   "metadata": {},
   "source": [
    "https://medium.com/@tarekseif0/document-similarity-using-word-movers-distance-and-cosine-similarity-d698ad435422"
   ]
  },
  {
   "cell_type": "code",
   "execution_count": 1,
   "metadata": {},
   "outputs": [],
   "source": [
    "from gensim.models import Word2Vec\n",
    "from gensim.models import KeyedVectors\n",
    "import json\n",
    "from rake_nltk import Rake\n",
    "from nltk.stem import WordNetLemmatizer \n",
    "from nltk import word_tokenize, pos_tag\n",
    "from pyemd import emd\n",
    "import math"
   ]
  },
  {
   "cell_type": "code",
   "execution_count": 2,
   "metadata": {},
   "outputs": [],
   "source": [
    "answers1 = []\n",
    "f = open('answers2.txt',encoding='utf-8')\n",
    "lines = f.readlines()\n",
    "\n",
    "for line in lines:\n",
    "    if line!='\\n':\n",
    "        answers1 += [line.replace('\\n', '')]"
   ]
  },
  {
   "cell_type": "code",
   "execution_count": 3,
   "metadata": {},
   "outputs": [
    {
     "name": "stdout",
     "output_type": "stream",
     "text": [
      "Data type before reconstruction :  <class 'str'>\n",
      "Data type after reconstruction :  <class 'list'>\n"
     ]
    }
   ],
   "source": [
    "with open('model_answers.txt') as f: \n",
    "    data = f.read() \n",
    "  \n",
    "print(\"Data type before reconstruction : \", type(data)) \n",
    "      \n",
    "# reconstructing the data as a dictionary \n",
    "model_answer_list = json.loads(data) \n",
    "  \n",
    "print(\"Data type after reconstruction : \", type(model_answer_list)) \n",
    "# print(model_answer_list) "
   ]
  },
  {
   "cell_type": "code",
   "execution_count": 4,
   "metadata": {},
   "outputs": [],
   "source": [
    "def penn_to_wn(tag):\n",
    "    \"\"\" Convert between a Penn Treebank tag to a simplified Wordnet tag \"\"\"\n",
    "    if tag.startswith('N'):\n",
    "        return 'n'\n",
    " \n",
    "    if tag.startswith('V'):\n",
    "        return 'v'\n",
    " \n",
    "    if tag.startswith('J'):\n",
    "        return 'a'\n",
    " \n",
    "    if tag.startswith('R'):\n",
    "        return 'r'\n",
    " \n",
    "    return 'n'"
   ]
  },
  {
   "cell_type": "code",
   "execution_count": 5,
   "metadata": {},
   "outputs": [],
   "source": [
    "r = Rake()\n",
    "model = KeyedVectors.load(\"word2vec.model\")"
   ]
  },
  {
   "cell_type": "code",
   "execution_count": 6,
   "metadata": {},
   "outputs": [],
   "source": [
    "def sentence_similarity(model_key, student_key):\n",
    "    lemmatizer = WordNetLemmatizer() \n",
    "\n",
    "    model_answer_tokenized = word_tokenize(model_key)\n",
    "    model_pos_tagged = pos_tag(model_answer_tokenized)\n",
    "    model_tagged = [lemmatizer.lemmatize(word[0].lower(),penn_to_wn(word[1])) for word in model_pos_tagged]\n",
    "\n",
    "    student_answer_tokenized = word_tokenize(student_key)\n",
    "    student_pos_tagged = pos_tag(student_answer_tokenized)\n",
    "    student_tagged = [lemmatizer.lemmatize(word[0].lower(),penn_to_wn(word[1])) for word in student_pos_tagged]\n",
    "    \n",
    "#     print(model_tagged,student_tagged)\n",
    "    return model.wmdistance(model_tagged, student_tagged)"
   ]
  },
  {
   "cell_type": "code",
   "execution_count": 7,
   "metadata": {},
   "outputs": [],
   "source": [
    "def evaluate(student_answer, model_answer):\n",
    "    r.extract_keywords_from_text(student_answer)\n",
    "    student_keywords = r.get_ranked_phrases()\n",
    "#     print(student_keywords)\n",
    "    marks = 0\n",
    "    for sentence in model_answer.keys():\n",
    "        sum = 0\n",
    "        r.extract_keywords_from_text(sentence)\n",
    "        sentence_keywords = r.get_ranked_phrases()\n",
    "#         print(sentence_keywords)\n",
    "        for sentence_keyword in sentence_keywords:\n",
    "            best = None\n",
    "            match = None\n",
    "            for student_keyword in student_keywords:\n",
    "                sim = sentence_similarity(sentence_keyword, student_keyword)\n",
    "                if best is None:\n",
    "                    best = sim\n",
    "                    match = student_keyword\n",
    "                elif sim<best:\n",
    "                    best = sim\n",
    "                    match = student_keyword\n",
    "            if best != math.inf:\n",
    "                sum += best\n",
    "#                 print(sentence_keyword,\",\",match,\",\", best)\n",
    "        if round(sum/len(sentence_keywords),1) <= 1:\n",
    "            marks += model_answer[sentence]\n",
    "    print(marks)"
   ]
  },
  {
   "cell_type": "code",
   "execution_count": 8,
   "metadata": {
    "scrolled": true
   },
   "outputs": [
    {
     "name": "stdout",
     "output_type": "stream",
     "text": [
      "Student -\n",
      " An operating system has three main functions: manage the computer's resources, such as the central processing unit, memory, disk drives, and printers,establish a user interface, and execute and provide services for applications software. \n",
      "Model answer\n",
      " It is designed to make sure that a computer system performs well by managing its computational activities.It provides an environment for the development and execution of programs.\n",
      "2\n",
      "Student -\n",
      " Mutual Exclusion: When two people meet in the landings, they can’t just walk through because there is space only for one person. This condition to allow only one person (or process) to use the step between them (or the resource) is the first condition necessary for the occurrence of the deadlock. Hold and Wait: When the 2 people refuses to retreat and hold their grounds, it is called holding. This is the next necessary condition for the the deadlock. No Preemption: For resolving the deadlock one can simply cancel one of the processes for other to continue. But Operating System doesn’t do so. It allocates the resources to the processors for as much time needed until the task is completed. Hence, there is no temporary reallocation of the resources. It is third condition for deadlock. Circular Wait :When the two people refuses to retreat and wait for each other to retreat, so that they can complete their task, it is called circular wait. It is the last condition for the deadlock to occur. \n",
      "Model answer\n",
      " Mutual Exclusion Condition: It specifies that the resources involved are non-sharable.Hold and Wait Condition: It specifies that there must be a process that is holding a resource already allocated to it while waiting for additional resource that are currently being held by other processes.No-Preemptive Condition: Resources cannot be taken away while they are being used by processes.Circular Wait Condition: It is an explanation of the second condition. It specifies that the processes in the system form a circular list or a chain where each process in the chain is waiting for a resource held by next process in the chain.\n",
      "4\n",
      "Student -\n",
      " The process with less execution time suffer i.e. waiting time is often quite long. Favors CPU Bound process then I/O bound process. Advantages – It is simple and easy to understand. Disadvantages - The process with less execution time suffer i.e. waiting time is often quite long. This effect results in lower CPU and device utilization. \n",
      "Model answer\n",
      " FCFS stands for First Come, First Served.It is a type of scheduling algorithm.In this scheme, if a process requests the CPU first, it is allocated to the CPU first.Its implementation is managed by a FIFO queue.It is simple and easy to understand & implement.The process with less execution time suffer i.e. waiting time is often quite long.This effect results in lower CPU and device utilization.FCFS algorithm is particularly troublesome for time-sharing systems, where it is important that each user get a share of the CPU at regular intervals.\n",
      "4\n",
      "Student -\n",
      " The banker’s algorithm is a resource allocation and deadlock avoidance algorithm that tests for safety by simulating the allocation for predetermined maximum possible amounts of all resources, then makes an “s-state” check to test for possible activities, before deciding whether allocation should be allowed to continue. Banker’s algorithm is named so because it is used in banking system to check whether loan can be sanctioned to a person or not \n",
      "Model answer\n",
      " Banker's algorithm is used to avoid deadlock. It is the one of deadlock-avoidance method.It is named as Banker's algorithm on the banking system where bank never allocates available cash in such a manner that it can no longer satisfy the requirements of all of its customers.\n",
      "2\n",
      "Student -\n",
      " There are two types of fragmentation in OS which are given as: Internal fragmentation, and External fragmentation. Internal fragmentation happens when the memory is split into mounted sized blocks. Whenever a method request for the memory, the mounted sized block is allotted to the method. just in case the memory allotted to the method is somewhat larger than the memory requested, then the distinction between allotted and requested memory is that the Internal fragmentation. External fragmentation happens when there’s a sufficient quantity of area within the memory to satisfy the memory request of a method. however the process’s memory request cannot be fulfilled because the memory offered is during a non-contiguous manner. Either you apply first-fit or best-fit memory allocation strategy it’ll cause external fragmentation. \n",
      "Model answer\n",
      " Internal fragmentation: It is occurred when we deal with the systems that have fixed size allocation units.External fragmentation: It is occurred when we deal with systems that have variable-size allocation units.\n",
      "2\n",
      "Student -\n",
      " Spooling is the process of sending data to a spool, or temporary storage area in the computer's memory. This data may contain files or processes. Like a spool of thread, the data can build up within the spool as multiple files or jobs are sent to it. \n",
      "Model answer\n",
      " Spooling is a process in which data is temporarily gathered to be used and executed by a device, program or the system.It is associated with printing. When different applications send output to the printer at the same time, spooling keeps these all jobs into a disk file and queues them accordingly to the printer.\n",
      "2\n",
      "Student -\n",
      " Semaphore is simply a variable that is non-negative and shared between threads. A semaphore is a signaling mechanism, and a thread that is waiting on a semaphore can be signaled by another thread. It uses two atomic operations, 1)wait, and 2) signal for the process synchronization.The two types of Semaphores are : Binary Semaphore and Counting Semaphore. \n",
      "Model answer\n",
      " Semaphore is a protected variable or abstract data type that is used to lock the resource being used.The value of the semaphore indicates the status of a common resource.Binary semaphores Counting semaphores\n",
      "2\n",
      "Student -\n",
      " Belady’s Anomaly is the phenomenon of increasing the number of page faults on increasing the number of frames in main memory. \n",
      "Model answer\n",
      " Belady's Anomaly is also called FIFO anomaly.Usually, on increasing the number of frames allocated to a process virtual memory, the process execution is faster, because fewer page faults occur. Sometimes, the reverse happens, i.e., the execution time increases even when more frames are allocated to the process. This is Belady's Anomaly. This is true for certain page reference patterns.\n",
      "2\n",
      "Student -\n",
      " Some of the most important benefits of MT are: Improved throughput. Many concurrent compute operations and I/O requests within a single process. Simultaneous and fully symmetric use of multiple processors for computation and I/O.Superior application responsiveness. Improved server responsiveness. Large or complex requests or slow clients don't block other requests for service. The overall throughput of the server is much greater.Minimized system resource usage.  \n",
      "Model answer\n",
      " Enhance the responsiveness to the users.Resource sharing within the process.EconomicalCompletely utilize the multiprocessing architecture.\n",
      "1.0\n",
      "Student -\n",
      " Processes in the operating system can be in any of the following states: New- The process is being created.Ready- The process is waiting to be assigned to a processor.Running - Instructions are being executed.Waiting - The process is waiting for some event to occur(such as an I/O completion or reception of a signal).Terminated- The process has finished execution. \n",
      "Model answer\n",
      " New ProcessRunning ProcessWaiting ProcessReady ProcessTerminated Process\n",
      "1.0\n"
     ]
    }
   ],
   "source": [
    "for student_answer,model_answer in zip(answers1,model_answer_list):\n",
    "    print(\"Student -\\n\",student_answer, \"\\nModel answer\\n\",''.join(model_answer.keys()))\n",
    "    evaluate(student_answer, model_answer)"
   ]
  },
  {
   "cell_type": "code",
   "execution_count": null,
   "metadata": {},
   "outputs": [],
   "source": []
  }
 ],
 "metadata": {
  "kernelspec": {
   "display_name": "Python 3",
   "language": "python",
   "name": "python3"
  },
  "language_info": {
   "codemirror_mode": {
    "name": "ipython",
    "version": 3
   },
   "file_extension": ".py",
   "mimetype": "text/x-python",
   "name": "python",
   "nbconvert_exporter": "python",
   "pygments_lexer": "ipython3",
   "version": "3.9.2"
  }
 },
 "nbformat": 4,
 "nbformat_minor": 4
}
